{
 "cells": [
  {
   "cell_type": "code",
   "execution_count": 2,
   "metadata": {},
<<<<<<< HEAD
   "outputs": [],
   "source": [
<<<<<<< HEAD
    "print(\"Prueba\")"
=======
    "print(\"Hello World\")"
>>>>>>> ed63d467d3501047f7e2f04b52c58f3962e036ff
=======
   "outputs": [
    {
     "name": "stdout",
     "output_type": "stream",
     "text": [
      "Hello World\n",
      "No\n"
     ]
    }
   ],
   "source": [
    "print(\"Hello World\")\n",
    "print(\"No\")"
>>>>>>> 8fead75d4adfcf8467d3fe67f024ced8bb5e519f
   ]
  }
 ],
 "metadata": {
<<<<<<< HEAD
  "language_info": {
   "name": "python"
=======
  "kernelspec": {
   "display_name": "Python 3",
   "language": "python",
   "name": "python3"
  },
  "language_info": {
   "codemirror_mode": {
    "name": "ipython",
    "version": 3
   },
   "file_extension": ".py",
   "mimetype": "text/x-python",
   "name": "python",
   "nbconvert_exporter": "python",
   "pygments_lexer": "ipython3",
   "version": "3.11.9"
>>>>>>> 8fead75d4adfcf8467d3fe67f024ced8bb5e519f
  }
 },
 "nbformat": 4,
 "nbformat_minor": 2
}
