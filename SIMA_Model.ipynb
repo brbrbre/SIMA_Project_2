{
 "cells": [
  {
   "cell_type": "code",
   "execution_count": 10,
   "metadata": {},
   "outputs": [
    {
     "name": "stdout",
     "output_type": "stream",
     "text": [
      "Requirement already satisfied: pandas in ./venv/lib/python3.13/site-packages (2.3.2)\n",
      "Collecting openpyxl\n",
      "  Downloading openpyxl-3.1.5-py2.py3-none-any.whl.metadata (2.5 kB)\n",
      "Requirement already satisfied: numpy>=1.26.0 in ./venv/lib/python3.13/site-packages (from pandas) (2.3.2)\n",
      "Requirement already satisfied: python-dateutil>=2.8.2 in ./venv/lib/python3.13/site-packages (from pandas) (2.9.0.post0)\n",
      "Requirement already satisfied: pytz>=2020.1 in ./venv/lib/python3.13/site-packages (from pandas) (2025.2)\n",
      "Requirement already satisfied: tzdata>=2022.7 in ./venv/lib/python3.13/site-packages (from pandas) (2025.2)\n",
      "Collecting et-xmlfile (from openpyxl)\n",
      "  Downloading et_xmlfile-2.0.0-py3-none-any.whl.metadata (2.7 kB)\n",
      "Requirement already satisfied: six>=1.5 in ./venv/lib/python3.13/site-packages (from python-dateutil>=2.8.2->pandas) (1.17.0)\n",
      "Downloading openpyxl-3.1.5-py2.py3-none-any.whl (250 kB)\n",
      "Downloading et_xmlfile-2.0.0-py3-none-any.whl (18 kB)\n",
      "Installing collected packages: et-xmlfile, openpyxl\n",
      "\u001b[2K   \u001b[90m━━━━━━━━━━━━━━━━━━━━━━━━━━━━━━━━━━━━━━━━\u001b[0m \u001b[32m2/2\u001b[0m [openpyxl]1/2\u001b[0m [openpyxl]\n",
      "\u001b[1A\u001b[2KSuccessfully installed et-xmlfile-2.0.0 openpyxl-3.1.5\n",
      "Note: you may need to restart the kernel to use updated packages.\n"
     ]
    }
   ],
   "source": [
    "%pip install pandas openpyxl"
   ]
  },
  {
   "cell_type": "code",
   "execution_count": 11,
   "metadata": {},
   "outputs": [
    {
     "name": "stdout",
     "output_type": "stream",
     "text": [
      "\n",
      "📂 DATOS HISTÓRICOS 2020_2021_TODAS ESTACIONES.xlsx\n",
      "Hojas: ['SURESTE', 'NORESTE', 'CENTRO', 'NOROESTE', 'SUROESTE', 'NOROESTE2', 'NORTE', 'SUROESTE2', 'SURESTE2', 'SURESTE3', 'SUR', 'NORTE2', 'NORESTE2', 'NORESTE3', 'NOROESTE3', 'CATÁLOGO']\n",
      "\n",
      "📂 DATOS HISTÓRICOS 2021_Contaminante.xlsx\n",
      "Hojas: ['Param_horarios_Estaciones']\n",
      "\n",
      "📂 DATOS HISTÓRICOS 2022_2023_TODAS ESTACIONES.xlsx\n",
      "Hojas: ['SURESTE', 'NORESTE', 'CENTRO', 'NOROESTE', 'SUROESTE', 'NOROESTE2', 'NORTE', 'SUROESTE2', 'SURESTE2', 'SURESTE3', 'SUR', 'NORTE2', 'NORESTE2', 'NORESTE3', 'NOROESTE3', 'CATÁLOGO']\n",
      "\n",
      "📂 DATOS HISTÓRICOS 2023_2024_TODAS ESTACIONES_ITESM.xlsx\n",
      "Hojas: ['Param_horarios_Estaciones', 'Hoja2']\n",
      "\n",
      "📂 DATOS HISTÓRICOS 2024_TODAS ESTACIONES.xlsx\n",
      "Hojas: ['SE', 'CE', 'SO', 'NE2', 'SE2', 'SE3', 'NE', 'NO', 'NO2', 'NTE', 'NTE2', 'SO2', 'SUR', 'NO3', 'NE3']\n",
      "\n",
      "📂 DATOS HISTÓRICOS 2025_TODAS ESTACIONES.xlsx\n",
      "Hojas: ['Variables', 'Observaciones']\n"
     ]
    }
   ],
   "source": [
    "import pandas as pd\n",
    "from pathlib import Path\n",
    "\n",
    "# Carpeta donde están tus archivos\n",
    "carpeta = Path(\"Bases_Datos\")\n",
    "\n",
    "# Archivos que quieres leer\n",
    "archivos = [\n",
    "    carpeta / \"DATOS HISTÓRICOS 2020_2021_TODAS ESTACIONES.xlsx\",\n",
    "    carpeta / \"DATOS HISTÓRICOS 2021_Contaminante.xlsx\",\n",
    "    carpeta / \"DATOS HISTÓRICOS 2022_2023_TODAS ESTACIONES.xlsx\",\n",
    "    carpeta / \"DATOS HISTÓRICOS 2023_2024_TODAS ESTACIONES_ITESM.xlsx\",\n",
    "    carpeta / \"DATOS HISTÓRICOS 2024_TODAS ESTACIONES.xlsx\",\n",
    "    carpeta / \"DATOS HISTÓRICOS 2025_TODAS ESTACIONES.xlsx\",\n",
    "]\n",
    "\n",
    "# Probar que se leen\n",
    "for f in archivos:\n",
    "    xl = pd.ExcelFile(f, engine=\"openpyxl\")\n",
    "    print(f\"\\n📂 {f.name}\")\n",
    "    print(\"Hojas:\", xl.sheet_names)"
   ]
  },
  {
   "cell_type": "code",
   "execution_count": 13,
   "metadata": {},
   "outputs": [
    {
     "name": "stdout",
     "output_type": "stream",
     "text": [
      "Note: you may need to restart the kernel to use updated packages.\n",
      "📂 Working dir: /Users/brismaalvarezvaldez/Documents/GitHub/SIMA_Project_2\n",
      "Archivos encontrados: ['DATOS HISTÓRICOS 2020_2021_TODAS ESTACIONES.xlsx', 'DATOS HISTÓRICOS 2021_Contaminante.xlsx', 'DATOS HISTÓRICOS 2022_2023_TODAS ESTACIONES.xlsx', 'DATOS HISTÓRICOS 2023_2024_TODAS ESTACIONES_ITESM.xlsx', 'DATOS HISTÓRICOS 2024_TODAS ESTACIONES.xlsx', 'DATOS HISTÓRICOS 2025_TODAS ESTACIONES.xlsx']\n",
      "\n",
      "🔎 Hojas por archivo:\n",
      " - DATOS HISTÓRICOS 2020_2021_TODAS ESTACIONES.xlsx: ['SURESTE', 'NORESTE', 'CENTRO', 'NOROESTE', 'SUROESTE', 'NOROESTE2', 'NORTE', 'SUROESTE2', 'SURESTE2', 'SURESTE3', 'SUR', 'NORTE2', 'NORESTE2', 'NORESTE3', 'NOROESTE3', 'CATÁLOGO']\n",
      " - DATOS HISTÓRICOS 2021_Contaminante.xlsx: ['Param_horarios_Estaciones']\n",
      " - DATOS HISTÓRICOS 2022_2023_TODAS ESTACIONES.xlsx: ['SURESTE', 'NORESTE', 'CENTRO', 'NOROESTE', 'SUROESTE', 'NOROESTE2', 'NORTE', 'SUROESTE2', 'SURESTE2', 'SURESTE3', 'SUR', 'NORTE2', 'NORESTE2', 'NORESTE3', 'NOROESTE3', 'CATÁLOGO']\n",
      " - DATOS HISTÓRICOS 2023_2024_TODAS ESTACIONES_ITESM.xlsx: ['Param_horarios_Estaciones', 'Hoja2']\n",
      " - DATOS HISTÓRICOS 2024_TODAS ESTACIONES.xlsx: ['SE', 'CE', 'SO', 'NE2', 'SE2', 'SE3', 'NE', 'NO', 'NO2', 'NTE', 'NTE2', 'SO2', 'SUR', 'NO3', 'NE3']\n",
      " - DATOS HISTÓRICOS 2025_TODAS ESTACIONES.xlsx: ['Variables', 'Observaciones']\n",
      "\n",
      "✅ CSV creado: /Users/brismaalvarezvaldez/Documents/GitHub/SIMA_Project_2/Datos_Noroeste.csv\n",
      "📄 Coincidencias:\n",
      "  - DATOS HISTÓRICOS 2020_2021_TODAS ESTACIONES.xlsx | hoja 'NOROESTE' -> NOROESTE | filas=17537\n",
      "  - DATOS HISTÓRICOS 2020_2021_TODAS ESTACIONES.xlsx | hoja 'NOROESTE2' -> NOROESTE2 | filas=17535\n",
      "  - DATOS HISTÓRICOS 2020_2021_TODAS ESTACIONES.xlsx | hoja 'NOROESTE3' -> NOROESTE3 | filas=0\n",
      "  - DATOS HISTÓRICOS 2022_2023_TODAS ESTACIONES.xlsx | hoja 'NOROESTE' -> NOROESTE | filas=14255\n",
      "  - DATOS HISTÓRICOS 2022_2023_TODAS ESTACIONES.xlsx | hoja 'NOROESTE2' -> NOROESTE2 | filas=14255\n",
      "  - DATOS HISTÓRICOS 2022_2023_TODAS ESTACIONES.xlsx | hoja 'NOROESTE3' -> NOROESTE3 | filas=6237\n",
      "  - DATOS HISTÓRICOS 2024_TODAS ESTACIONES.xlsx | hoja 'NO' -> NOROESTE | filas=8783\n",
      "  - DATOS HISTÓRICOS 2024_TODAS ESTACIONES.xlsx | hoja 'NO2' -> NOROESTE2 | filas=8782\n",
      "  - DATOS HISTÓRICOS 2024_TODAS ESTACIONES.xlsx | hoja 'NO3' -> NOROESTE3 | filas=8784\n",
      "\n",
      "Resumen por Estacion:\n",
      "Estacion\n",
      "NOROESTE     40575\n",
      "NOROESTE2    40572\n",
      "NOROESTE3    15021\n",
      "Name: count, dtype: int64\n"
     ]
    }
   ],
   "source": [
    "# --- BLOQUE ROBUSTO PARA EXTRAER NOROESTE / NOROESTE2 / NOROESTE3 ---\n",
    "# Funciona con archivos dentro de \"Bases_Datos\"\n",
    "# y guarda \"Datos_Noroeste.csv\" en la raíz del proyecto.\n",
    "\n",
    "%pip install -q pandas openpyxl\n",
    "\n",
    "from pathlib import Path\n",
    "import pandas as pd\n",
    "import re\n",
    "import unicodedata\n",
    "\n",
    "# 0) Parámetros\n",
    "CARPETA = Path(\"Bases_Datos\")     # si tu carpeta cambia, ajusta aquí\n",
    "SALIDA  = Path(\"Datos_Noroeste.csv\")\n",
    "\n",
    "# 1) Verifica dónde estás y que existan los archivos\n",
    "print(\"📂 Working dir:\", Path.cwd())\n",
    "if not CARPETA.exists():\n",
    "    raise FileNotFoundError(f\"No existe la carpeta '{CARPETA}'. Revisa tu estructura.\")\n",
    "\n",
    "archivos = sorted(CARPETA.glob(\"*.xlsx\"))\n",
    "if not archivos:\n",
    "    raise FileNotFoundError(f\"No se encontraron .xlsx dentro de '{CARPETA}'.\")\n",
    "print(\"Archivos encontrados:\", [a.name for a in archivos])\n",
    "\n",
    "# 2) Diagnóstico: imprime hojas para confirmar nombres\n",
    "print(\"\\n🔎 Hojas por archivo:\")\n",
    "for f in archivos:\n",
    "    try:\n",
    "        xl = pd.ExcelFile(f, engine=\"openpyxl\")\n",
    "        print(f\" - {f.name}: {xl.sheet_names}\")\n",
    "    except Exception as e:\n",
    "        print(f\" - {f.name}: ERROR al abrir -> {e}\")\n",
    "\n",
    "# 3) Normalizador y patrón de coincidencia\n",
    "def norm(s: str) -> str:\n",
    "    s = unicodedata.normalize(\"NFKD\", str(s))\n",
    "    s = \"\".join(c for c in s if not unicodedata.combining(c))\n",
    "    s = s.upper().strip()\n",
    "    s = re.sub(r\"[\\s\\-\\_\\.]+\", \"\", s)  # quita espacios/guiones/guiones bajos/puntos\n",
    "    return s\n",
    "\n",
    "# Queremos: NOROESTE, NOROESTE2, NOROESTE3 (alias: NO, NO2, NO3)\n",
    "# Permitimos variantes como \"NO 2\", \"NO-3\", \"NOROESTE 3\", etc.\n",
    "def a_estacion_canonica(nombre_hoja: str):\n",
    "    s = norm(nombre_hoja)\n",
    "    # patrones para NO, NO2, NO3\n",
    "    if re.fullmatch(r\"NO\", s):   return \"NOROESTE\"\n",
    "    if re.fullmatch(r\"NO2\", s):  return \"NOROESTE2\"\n",
    "    if re.fullmatch(r\"NO3\", s):  return \"NOROESTE3\"\n",
    "    # patrones para NOROESTE, NOROESTE2, NOROESTE3\n",
    "    if re.fullmatch(r\"NOROESTE\", s):   return \"NOROESTE\"\n",
    "    if re.fullmatch(r\"NOROESTE2\", s):  return \"NOROESTE2\"\n",
    "    if re.fullmatch(r\"NOROESTE3\", s):  return \"NOROESTE3\"\n",
    "    return None\n",
    "\n",
    "# 4) Extracción con logging\n",
    "noroeste_frames = []\n",
    "log_match = []\n",
    "log_omit  = []\n",
    "\n",
    "for f in archivos:\n",
    "    try:\n",
    "        xl = pd.ExcelFile(f, engine=\"openpyxl\")\n",
    "        for sheet in xl.sheet_names:\n",
    "            canon = a_estacion_canonica(sheet)\n",
    "            if canon is not None:\n",
    "                try:\n",
    "                    df = xl.parse(sheet)\n",
    "                    df[\"Fuente\"]   = f.name\n",
    "                    df[\"Estacion\"] = canon\n",
    "                    noroeste_frames.append(df)\n",
    "                    log_match.append((f.name, sheet, canon, len(df)))\n",
    "                except Exception as e_parse:\n",
    "                    log_omit.append((f.name, sheet, f\"ERROR al leer: {e_parse}\"))\n",
    "            else:\n",
    "                log_omit.append((f.name, sheet, \"omitida\"))\n",
    "    except Exception as e_open:\n",
    "        log_omit.append((f.name, \"(archivo)\", f\"ERROR al abrir: {e_open}\"))\n",
    "\n",
    "# 5) Validación y guardado\n",
    "if not noroeste_frames:\n",
    "    # Ayuda para depurar si no encontró nada\n",
    "    print(\"\\n⚠️ No se encontraron hojas coincidentes (NOROESTE/2/3 o NO/2/3).\")\n",
    "    print(\"Mira el diagnóstico arriba y ajusta el matcher si tus hojas tienen otro nombre.\")\n",
    "    print(\"\\nEjemplos de hojas omitidas (primeras 30):\")\n",
    "    for a, h, nota in log_omit[:30]:\n",
    "        print(f\"  - {a} | {h} | {nota}\")\n",
    "    raise ValueError(\"No objects to concatenate (no hubo coincidencias).\")\n",
    "\n",
    "combined = pd.concat(noroeste_frames, ignore_index=True)\n",
    "combined.to_csv(SALIDA, index=False, encoding=\"utf-8-sig\")\n",
    "\n",
    "print(\"\\n✅ CSV creado:\", SALIDA.resolve())\n",
    "print(\"📄 Coincidencias:\")\n",
    "for a, h, est, n in log_match:\n",
    "    print(f\"  - {a} | hoja '{h}' -> {est} | filas={n}\")\n",
    "\n",
    "print(\"\\nResumen por Estacion:\")\n",
    "print(combined[\"Estacion\"].value_counts(dropna=False))"
   ]
  },
  {
   "cell_type": "code",
   "execution_count": null,
   "metadata": {},
   "outputs": [],
   "source": [
    "# Suponiendo que ya todo lo tenemos en un data frame guardado\n",
    "\n",
    "import pandas as pd \n",
    "import numpy as numpy\n",
    "import matplotlib.pyplot as plt"
   ]
  },
  {
   "cell_type": "code",
   "execution_count": null,
   "metadata": {},
   "outputs": [],
   "source": [
    "df = # Poner lo del data frame \n",
    "print (\"Dimensión del data set:\", df.shape)"
   ]
  },
  {
   "cell_type": "code",
   "execution_count": null,
   "metadata": {},
   "outputs": [],
   "source": [
    "print(\"\\nTipos de datos:\")\n",
    "print (df.types)"
   ]
  },
  {
   "cell_type": "code",
   "execution_count": null,
   "metadata": {},
   "outputs": [],
   "source": [
    "print(\"\\nPrimeras filas:\")\n",
    "display(df.head())"
   ]
  },
  {
   "cell_type": "code",
   "execution_count": null,
   "metadata": {},
   "outputs": [],
   "source": [
    "print(\"\\nValores nulos por columna:\")\n",
    "nulls = df.isna().sum().sort_values(ascending=False)\n",
    "display(nulls.to_frame(\"n_nulos\"))"
   ]
  },
  {
   "cell_type": "code",
   "execution_count": null,
   "metadata": {},
   "outputs": [],
   "source": [
    "print(\"\\nPorcentaje de nulos por columna:\")\n",
    "display((df.isna().mean()*100).round(2).sort_values(ascending=False).to_frame(\"%_nulos\"))"
   ]
  },
  {
   "cell_type": "code",
   "execution_count": null,
   "metadata": {},
   "outputs": [],
   "source": [
    "display(df.describe())"
   ]
  },
  {
   "cell_type": "code",
   "execution_count": null,
   "metadata": {},
   "outputs": [],
   "source": [
    "obj_cols = df.select_dtypes(exclude=\"number\").columns.tolist()\n",
    "if obj_cols:\n",
    "    print(\"\\nEstadísticas descriptivas (categóricas):\")\n",
    "    display(df[obj_cols].describe())"
   ]
  },
  {
   "cell_type": "code",
   "execution_count": null,
   "metadata": {},
   "outputs": [],
   "source": [
    "for col in obj_cols:\n",
    "    print(f\"\\nTop categorías en {col}:\")\n",
    "    display(df[col].value_counts(dropna=False).head(10)"
   ]
  },
  {
   "cell_type": "code",
   "execution_count": null,
   "metadata": {},
   "outputs": [],
   "source": [
    "dup_count = df.duplicated().sum()\n",
    "print(f\"\\nFilas duplicadas: {dup_count}\")"
   ]
  },
  {
   "cell_type": "code",
   "execution_count": null,
   "metadata": {},
   "outputs": [],
   "source": [
    "num_cols = df.select_dtypes(include=\"number\").columns.tolist()"
   ]
  },
  {
   "cell_type": "code",
   "execution_count": null,
   "metadata": {},
   "outputs": [],
   "source": [
    "for col in num_cols[:12]: \n",
    "    plt.figure()\n",
    "    plt.hist(df[col].dropna(), bins=30)\n",
    "    plt.title(f\"Histograma: {col}\")\n",
    "    plt.xlabel(col); plt.ylabel(\"Frecuencia\")\n",
    "    plt.show()"
   ]
  },
  {
   "cell_type": "code",
   "execution_count": null,
   "metadata": {},
   "outputs": [],
   "source": [
    "for col in num_cols[:12]:\n",
    "    plt.figure()\n",
    "    plt.boxplot(df[col].dropna(), vert=False)\n",
    "    plt.title(f\"Boxplot: {col}\")\n",
    "    plt.xlabel(col)\n",
    "    plt.show()"
   ]
  },
  {
   "cell_type": "code",
   "execution_count": null,
   "metadata": {},
   "outputs": [],
   "source": [
    "plt.imshow(df.isna(), aspect='auto', interpolation='nearest')\n",
    "plt.title(\"Mapa simple de valores nulos\")\n",
    "plt.xlabel(\"Columnas\"); plt.ylabel(\"Filas\")\n",
    "plt.colorbar(label=\"Nulo=1 / No nulo=0\")\n",
    "plt.show()"
   ]
  },
  {
   "cell_type": "code",
   "execution_count": null,
   "metadata": {},
   "outputs": [],
   "source": [
    "# Falta la preparacion y transformacion (IMPUTACION)"
   ]
  }
 ],
 "metadata": {
  "kernelspec": {
   "display_name": "venv",
   "language": "python",
   "name": "python3"
  },
  "language_info": {
   "codemirror_mode": {
    "name": "ipython",
    "version": 3
   },
   "file_extension": ".py",
   "mimetype": "text/x-python",
   "name": "python",
   "nbconvert_exporter": "python",
   "pygments_lexer": "ipython3",
   "version": "3.13.6"
  }
 },
 "nbformat": 4,
 "nbformat_minor": 2
}
